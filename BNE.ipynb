{
 "cells": [
  {
   "cell_type": "code",
   "execution_count": null,
   "id": "b8d06d07",
   "metadata": {},
   "outputs": [],
   "source": [
    "# example from https://www.youtube.com/watch?v=E0_CA9TwZ8c \n",
    "# Bayesian Nash Equilibrium"
   ]
  },
  {
   "cell_type": "code",
   "execution_count": null,
   "id": "502dae39",
   "metadata": {},
   "outputs": [],
   "source": [
    "\n",
    "## 7 nov 2021 ###\n",
    "# some hardcodes should be generalized\n",
    "\n",
    "# shazri , mdshazrishahrir@gmail.com"
   ]
  },
  {
   "cell_type": "code",
   "execution_count": 1,
   "id": "8fc3ab9a",
   "metadata": {},
   "outputs": [
    {
     "name": "stdout",
     "output_type": "stream",
     "text": [
      "how many types in player 1\n"
     ]
    },
    {
     "data": {
      "text/plain": [
       "1"
      ]
     },
     "execution_count": 1,
     "metadata": {},
     "output_type": "execute_result"
    }
   ],
   "source": [
    "player_1 = [[[3,0],[2,1]]]\n",
    "\n",
    "print('how many types in player 1')\n",
    "len(player_1)"
   ]
  },
  {
   "cell_type": "code",
   "execution_count": 2,
   "id": "5839a209",
   "metadata": {},
   "outputs": [
    {
     "name": "stdout",
     "output_type": "stream",
     "text": [
      "[[3, 0], [2, 1]]\n"
     ]
    }
   ],
   "source": [
    "print(player_1[0])"
   ]
  },
  {
   "cell_type": "code",
   "execution_count": 3,
   "id": "6dec17b4",
   "metadata": {},
   "outputs": [
    {
     "data": {
      "text/plain": [
       "2"
      ]
     },
     "execution_count": 3,
     "metadata": {},
     "output_type": "execute_result"
    }
   ],
   "source": [
    "len(player_1[0][0])"
   ]
  },
  {
   "cell_type": "code",
   "execution_count": 4,
   "id": "a198e7e9",
   "metadata": {},
   "outputs": [
    {
     "name": "stdout",
     "output_type": "stream",
     "text": [
      "how many types in player 2\n"
     ]
    },
    {
     "data": {
      "text/plain": [
       "2"
      ]
     },
     "execution_count": 4,
     "metadata": {},
     "output_type": "execute_result"
    }
   ],
   "source": [
    "player_2 = [[[3,4],[1,2]],[[3,2],[0,1]]]\n",
    "\n",
    "print('how many types in player 2')\n",
    "len(player_2)"
   ]
  },
  {
   "cell_type": "code",
   "execution_count": 5,
   "id": "cd4e2e05",
   "metadata": {},
   "outputs": [
    {
     "data": {
      "text/plain": [
       "2"
      ]
     },
     "execution_count": 5,
     "metadata": {},
     "output_type": "execute_result"
    }
   ],
   "source": [
    "len(player_1[0])"
   ]
  },
  {
   "cell_type": "code",
   "execution_count": 6,
   "id": "9000b361",
   "metadata": {},
   "outputs": [
    {
     "name": "stdout",
     "output_type": "stream",
     "text": [
      "[[3, 4], [1, 2]]\n",
      "[[3, 2], [0, 1]]\n"
     ]
    }
   ],
   "source": [
    "print(player_2[0])\n",
    "print(player_2[1])"
   ]
  },
  {
   "cell_type": "code",
   "execution_count": 7,
   "id": "d672482b",
   "metadata": {},
   "outputs": [],
   "source": [
    "# wide form"
   ]
  },
  {
   "cell_type": "code",
   "execution_count": 8,
   "id": "165e611f",
   "metadata": {},
   "outputs": [
    {
     "name": "stdout",
     "output_type": "stream",
     "text": [
      "0.2\n",
      "0.8\n"
     ]
    }
   ],
   "source": [
    "# probability of type choices\n",
    "p=[0.2 , 0.8]\n",
    "p\n",
    "print(p[0])\n",
    "print(p[1])"
   ]
  },
  {
   "cell_type": "code",
   "execution_count": 15,
   "id": "9c139a7d",
   "metadata": {},
   "outputs": [],
   "source": [
    "import numpy as np\n",
    "wf = np.empty(shape=[2,4])\n",
    "for h in range(len(player_1[0])):\n",
    "    for i in range(len(player_1[0][0])):\n",
    "        for j in range(len(player_1[0][0])): \n",
    "       \n",
    "            wf[h][i*2+j] = p[0]*player_1[0][h][i] + p[1]*player_1[0][h][j]\n",
    "\n",
    "        \n",
    "        "
   ]
  },
  {
   "cell_type": "code",
   "execution_count": 16,
   "id": "7f77d654",
   "metadata": {
    "scrolled": true
   },
   "outputs": [
    {
     "data": {
      "text/plain": [
       "array([[3. , 0.6, 2.4, 0. ],\n",
       "       [2. , 1.2, 1.8, 1. ]])"
      ]
     },
     "execution_count": 16,
     "metadata": {},
     "output_type": "execute_result"
    }
   ],
   "source": [
    "wf"
   ]
  },
  {
   "cell_type": "code",
   "execution_count": 17,
   "id": "d9f774b4",
   "metadata": {},
   "outputs": [],
   "source": [
    "import numpy as np\n",
    "wf2 = np.empty(shape=[2,4])\n",
    "for h in range(len(player_2[0])):\n",
    "    for i in range(len(player_2[0][0])):\n",
    "        for j in range(len(player_2[0][0])): \n",
    "       \n",
    "            wf2[h][i*2+j] = p[0]*player_2[0][h][i] + p[1]*player_2[1][h][j]\n",
    "\n",
    "        \n"
   ]
  },
  {
   "cell_type": "code",
   "execution_count": 25,
   "id": "1a9a023c",
   "metadata": {},
   "outputs": [
    {
     "data": {
      "text/plain": [
       "4"
      ]
     },
     "execution_count": 25,
     "metadata": {},
     "output_type": "execute_result"
    }
   ],
   "source": [
    "len(wf2[0])"
   ]
  },
  {
   "cell_type": "code",
   "execution_count": null,
   "id": "e39e868b",
   "metadata": {},
   "outputs": [],
   "source": [
    "# choose BNE"
   ]
  },
  {
   "cell_type": "code",
   "execution_count": 41,
   "id": "2592eb8b",
   "metadata": {},
   "outputs": [],
   "source": [
    "# choose the correct column in wide-form 2\n",
    "# assume 'column-1' comparisons\n",
    "\n",
    "col = 0\n",
    "\n",
    "col1 = 0\n",
    "col2 = 1\n",
    "for i in range(len(player_1[0][0])):\n",
    "        if((col1<=len(wf2[0])-1)&(col2<=len(wf2[0])-1)):\n",
    "            if(wf2[:,col1].sum()>wf2[:,col2].sum()):\n",
    "                sel_col = col1\n",
    "                col = sel_col\n",
    "                col2 = col2 + 1\n",
    "            if(wf2[:,col1].sum()<wf2[:,col2].sum()):\n",
    "                sel_col = col2\n",
    "                col = sel_col\n",
    "                col1 = col1 + 1\n",
    "            if(col1==col2):\n",
    "                col2 = col2 + 1\n",
    "\n",
    "\n"
   ]
  },
  {
   "cell_type": "code",
   "execution_count": 46,
   "id": "5260a752",
   "metadata": {},
   "outputs": [],
   "source": [
    "# choose the correct column in wide-form 2 and wide-form 1\n",
    "# assume 'column-1' comparisons\n",
    "\n",
    "comb = wf[:,col] + wf2[:,col]"
   ]
  },
  {
   "cell_type": "code",
   "execution_count": 47,
   "id": "1a742fbd",
   "metadata": {},
   "outputs": [
    {
     "data": {
      "text/plain": [
       "array([5.6, 2.2])"
      ]
     },
     "execution_count": 47,
     "metadata": {},
     "output_type": "execute_result"
    }
   ],
   "source": [
    "comb"
   ]
  },
  {
   "cell_type": "code",
   "execution_count": 57,
   "id": "b0e4dc05",
   "metadata": {},
   "outputs": [
    {
     "data": {
      "text/plain": [
       "0"
      ]
     },
     "execution_count": 57,
     "metadata": {},
     "output_type": "execute_result"
    }
   ],
   "source": [
    "row = np.where(comb == np.amax(comb))\n",
    "row = row[0][0]\n",
    "row"
   ]
  },
  {
   "cell_type": "code",
   "execution_count": 58,
   "id": "99550df3",
   "metadata": {},
   "outputs": [
    {
     "name": "stdout",
     "output_type": "stream",
     "text": [
      "index of NBE\n",
      "column\n",
      "2\n",
      "row\n",
      "0\n"
     ]
    }
   ],
   "source": [
    "print('index of NBE')\n",
    "print('column')\n",
    "print(col)\n",
    "print('row')\n",
    "print(row)"
   ]
  },
  {
   "cell_type": "code",
   "execution_count": null,
   "id": "bca4f2e6",
   "metadata": {},
   "outputs": [],
   "source": []
  }
 ],
 "metadata": {
  "kernelspec": {
   "display_name": "Python 3 (ipykernel)",
   "language": "python",
   "name": "python3"
  },
  "language_info": {
   "codemirror_mode": {
    "name": "ipython",
    "version": 3
   },
   "file_extension": ".py",
   "mimetype": "text/x-python",
   "name": "python",
   "nbconvert_exporter": "python",
   "pygments_lexer": "ipython3",
   "version": "3.9.7"
  }
 },
 "nbformat": 4,
 "nbformat_minor": 5
}
