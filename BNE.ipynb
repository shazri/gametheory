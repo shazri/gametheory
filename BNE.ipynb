{
 "cells": [
  {
   "cell_type": "code",
   "execution_count": null,
   "id": "61a042b8",
   "metadata": {},
   "outputs": [],
   "source": [
    "# example from https://www.youtube.com/watch?v=E0_CA9TwZ8c "
   ]
  },
  {
   "cell_type": "code",
   "execution_count": null,
   "id": "3df80097",
   "metadata": {},
   "outputs": [],
   "source": [
    "\n",
    "## 7 nov 2021 ###\n",
    "# some hardcodes should be generalized\n",
    "\n",
    "# shazri , mdshazrishahrir@gmail.com"
   ]
  },
  {
   "cell_type": "code",
   "execution_count": 1,
   "id": "8002d17c",
   "metadata": {},
   "outputs": [
    {
     "name": "stdout",
     "output_type": "stream",
     "text": [
      "how many types in player 1\n"
     ]
    },
    {
     "data": {
      "text/plain": [
       "1"
      ]
     },
     "execution_count": 1,
     "metadata": {},
     "output_type": "execute_result"
    }
   ],
   "source": [
    "player_1 = [[[3,0],[2,1]]]\n",
    "\n",
    "print('how many types in player 1')\n",
    "len(player_1)"
   ]
  },
  {
   "cell_type": "code",
   "execution_count": 2,
   "id": "9061e11a",
   "metadata": {},
   "outputs": [
    {
     "name": "stdout",
     "output_type": "stream",
     "text": [
      "[[3, 0], [2, 1]]\n"
     ]
    }
   ],
   "source": [
    "print(player_1[0])"
   ]
  },
  {
   "cell_type": "code",
   "execution_count": 3,
   "id": "b2ac6388",
   "metadata": {},
   "outputs": [
    {
     "data": {
      "text/plain": [
       "2"
      ]
     },
     "execution_count": 3,
     "metadata": {},
     "output_type": "execute_result"
    }
   ],
   "source": [
    "len(player_1[0][0])"
   ]
  },
  {
   "cell_type": "code",
   "execution_count": 4,
   "id": "65f8bd1b",
   "metadata": {},
   "outputs": [
    {
     "name": "stdout",
     "output_type": "stream",
     "text": [
      "how many types in player 2\n"
     ]
    },
    {
     "data": {
      "text/plain": [
       "2"
      ]
     },
     "execution_count": 4,
     "metadata": {},
     "output_type": "execute_result"
    }
   ],
   "source": [
    "player_2 = [[[3,4],[1,2]],[[3,2],[0,1]]]\n",
    "\n",
    "print('how many types in player 2')\n",
    "len(player_2)"
   ]
  },
  {
   "cell_type": "code",
   "execution_count": 5,
   "id": "94e08477",
   "metadata": {},
   "outputs": [
    {
     "data": {
      "text/plain": [
       "2"
      ]
     },
     "execution_count": 5,
     "metadata": {},
     "output_type": "execute_result"
    }
   ],
   "source": [
    "len(player_1[0])"
   ]
  },
  {
   "cell_type": "code",
   "execution_count": 6,
   "id": "6ed4e7d7",
   "metadata": {},
   "outputs": [
    {
     "name": "stdout",
     "output_type": "stream",
     "text": [
      "[[3, 4], [1, 2]]\n",
      "[[3, 2], [0, 1]]\n"
     ]
    }
   ],
   "source": [
    "print(player_2[0])\n",
    "print(player_2[1])"
   ]
  },
  {
   "cell_type": "code",
   "execution_count": 7,
   "id": "4b0c0924",
   "metadata": {},
   "outputs": [],
   "source": [
    "# wide form"
   ]
  },
  {
   "cell_type": "code",
   "execution_count": 8,
   "id": "245becf5",
   "metadata": {},
   "outputs": [
    {
     "name": "stdout",
     "output_type": "stream",
     "text": [
      "0.2\n",
      "0.8\n"
     ]
    }
   ],
   "source": [
    "# probability of type choices\n",
    "p=[0.2 , 0.8]\n",
    "p\n",
    "print(p[0])\n",
    "print(p[1])"
   ]
  },
  {
   "cell_type": "code",
   "execution_count": 15,
   "id": "1064036b",
   "metadata": {},
   "outputs": [],
   "source": [
    "import numpy as np\n",
    "wf = np.empty(shape=[2,4])\n",
    "for h in range(len(player_1[0])):\n",
    "    for i in range(len(player_1[0][0])):\n",
    "        for j in range(len(player_1[0][0])): \n",
    "       \n",
    "            wf[h][i*2+j] = p[0]*player_1[0][h][i] + p[1]*player_1[0][h][j]\n",
    "\n",
    "        \n",
    "        "
   ]
  },
  {
   "cell_type": "code",
   "execution_count": 16,
   "id": "d65052c3",
   "metadata": {
    "scrolled": true
   },
   "outputs": [
    {
     "data": {
      "text/plain": [
       "array([[3. , 0.6, 2.4, 0. ],\n",
       "       [2. , 1.2, 1.8, 1. ]])"
      ]
     },
     "execution_count": 16,
     "metadata": {},
     "output_type": "execute_result"
    }
   ],
   "source": [
    "wf"
   ]
  },
  {
   "cell_type": "code",
   "execution_count": 17,
   "id": "e4283721",
   "metadata": {},
   "outputs": [],
   "source": [
    "import numpy as np\n",
    "wf2 = np.empty(shape=[2,4])\n",
    "for h in range(len(player_2[0])):\n",
    "    for i in range(len(player_2[0][0])):\n",
    "        for j in range(len(player_2[0][0])): \n",
    "       \n",
    "            wf2[h][i*2+j] = p[0]*player_2[0][h][i] + p[1]*player_2[1][h][j]\n",
    "\n",
    "        \n"
   ]
  },
  {
   "cell_type": "code",
   "execution_count": 25,
   "id": "298fd401",
   "metadata": {},
   "outputs": [
    {
     "data": {
      "text/plain": [
       "4"
      ]
     },
     "execution_count": 25,
     "metadata": {},
     "output_type": "execute_result"
    }
   ],
   "source": [
    "len(wf2[0])"
   ]
  },
  {
   "cell_type": "code",
   "execution_count": null,
   "id": "c43c7d66",
   "metadata": {},
   "outputs": [],
   "source": [
    "# choose BNE"
   ]
  },
  {
   "cell_type": "code",
   "execution_count": 41,
   "id": "d8771c39",
   "metadata": {},
   "outputs": [],
   "source": [
    "# choose the correct column in wide-form 2\n",
    "# assume 'column-1' comparisons\n",
    "\n",
    "col = 0\n",
    "\n",
    "col1 = 0\n",
    "col2 = 1\n",
    "for i in range(len(player_1[0][0])):\n",
    "        if((col1<=len(wf2[0])-1)&(col2<=len(wf2[0])-1)):\n",
    "            if(wf2[:,col1].sum()>wf2[:,col2].sum()):\n",
    "                sel_col = col1\n",
    "                col = sel_col\n",
    "                col2 = col2 + 1\n",
    "            if(wf2[:,col1].sum()<wf2[:,col2].sum()):\n",
    "                sel_col = col2\n",
    "                col = sel_col\n",
    "                col1 = col1 + 1\n",
    "            if(col1==col2):\n",
    "                col2 = col2 + 1\n",
    "\n",
    "\n"
   ]
  },
  {
   "cell_type": "code",
   "execution_count": 46,
   "id": "b6b95eff",
   "metadata": {},
   "outputs": [],
   "source": [
    "# choose the correct column in wide-form 2 and wide-form 1\n",
    "# assume 'column-1' comparisons\n",
    "\n",
    "comb = wf[:,col] + wf2[:,col]"
   ]
  },
  {
   "cell_type": "code",
   "execution_count": 47,
   "id": "db4ba69a",
   "metadata": {},
   "outputs": [
    {
     "data": {
      "text/plain": [
       "array([5.6, 2.2])"
      ]
     },
     "execution_count": 47,
     "metadata": {},
     "output_type": "execute_result"
    }
   ],
   "source": [
    "comb"
   ]
  },
  {
   "cell_type": "code",
   "execution_count": 57,
   "id": "b40005f4",
   "metadata": {},
   "outputs": [
    {
     "data": {
      "text/plain": [
       "0"
      ]
     },
     "execution_count": 57,
     "metadata": {},
     "output_type": "execute_result"
    }
   ],
   "source": [
    "row = np.where(comb == np.amax(comb))\n",
    "row = row[0][0]\n",
    "row"
   ]
  },
  {
   "cell_type": "code",
   "execution_count": 58,
   "id": "96fb1e8f",
   "metadata": {},
   "outputs": [
    {
     "name": "stdout",
     "output_type": "stream",
     "text": [
      "index of NBE\n",
      "column\n",
      "2\n",
      "row\n",
      "0\n"
     ]
    }
   ],
   "source": [
    "print('index of NBE')\n",
    "print('column')\n",
    "print(col)\n",
    "print('row')\n",
    "print(row)"
   ]
  },
  {
   "cell_type": "code",
   "execution_count": null,
   "id": "207ab02a",
   "metadata": {},
   "outputs": [],
   "source": []
  }
 ],
 "metadata": {
  "kernelspec": {
   "display_name": "Python 3 (ipykernel)",
   "language": "python",
   "name": "python3"
  },
  "language_info": {
   "codemirror_mode": {
    "name": "ipython",
    "version": 3
   },
   "file_extension": ".py",
   "mimetype": "text/x-python",
   "name": "python",
   "nbconvert_exporter": "python",
   "pygments_lexer": "ipython3",
   "version": "3.9.7"
  }
 },
 "nbformat": 4,
 "nbformat_minor": 5
}
